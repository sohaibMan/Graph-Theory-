{
 "cells": [
  {
   "attachments": {},
   "cell_type": "markdown",
   "metadata": {},
   "source": [
    "### BFS\n",
    "<img src=\"./bfs.png\" style=\"display: block;margin-left: auto;margin-right: auto;width: 50%;\"/>\n",
    "\n",
    "\n",
    "\n"
   ]
  },
  {
   "cell_type": "code",
   "execution_count": 51,
   "metadata": {},
   "outputs": [
    {
     "name": "stdout",
     "output_type": "stream",
     "text": [
      "['A', 'B', 'D', 'A', 'C', 'E', 'F', 'G', 'H']\n"
     ]
    }
   ],
   "source": [
    "# Description: Graph Traversals\n",
    "from queue import Queue\n",
    "adj_list = {\n",
    "    'A': ['B','D'],\n",
    "    'B': ['A','C'],\n",
    "    'C': ['B'],\n",
    "    'D': ['A','E','F'],\n",
    "    'E': ['D','F','G'],\n",
    "    'F': ['D','H','E'],\n",
    "    'G': ['E','H'],\n",
    "    'H': ['F','G']\n",
    "} \n",
    "q=Queue()\n",
    "out_list=[]\n",
    "visited={}\n",
    "for key in adj_list.keys():\n",
    "    visited[key]=False\n",
    "\n",
    "\n",
    "def BFS(u):\n",
    "    q.put(u)\n",
    "    while not q.empty():\n",
    "        v=q.get()\n",
    "        out_list.append(v)\n",
    "        for n in adj_list[v]:\n",
    "            if not visited[n]:\n",
    "                visited[n]=True\n",
    "                q.put(n)\n",
    "\n",
    "\n",
    "BFS('A')\n",
    "print(out_list)\n",
    "    \n"
   ]
  },
  {
   "attachments": {},
   "cell_type": "markdown",
   "metadata": {},
   "source": [
    "### DFS\n",
    "<img src=\"./dfs.png\" style=\"display: block;margin-left: auto;margin-right: auto;width: 50%;\"/>"
   ]
  },
  {
   "cell_type": "code",
   "execution_count": 30,
   "metadata": {},
   "outputs": [
    {
     "name": "stdout",
     "output_type": "stream",
     "text": [
      "['A', 'B', 'D', 'E', 'F', 'C']\n"
     ]
    }
   ],
   "source": [
    "# python dictionary\n",
    "adj_list = {\n",
    "    \"A\": [\"B\", \"C\"],\n",
    "    \"B\": [\"D\", \"E\"],\n",
    "    \"C\": [\"B\", \"F\"],\n",
    "    \"D\": [],\n",
    "    \"E\": [\"F\"],\n",
    "    \"F\": []\n",
    "\n",
    "}\n",
    "# DFS DEPTH FIRST SEARCH\n",
    "\n",
    "\n",
    "dfs_output = []\n",
    "\n",
    "\n",
    "def DFS(u):\n",
    "\n",
    "    dfs_output.append(u)\n",
    "    for v in adj_list[u]:\n",
    "        if v not in dfs_output:\n",
    "            DFS(v)\n",
    "\n",
    "\n",
    "DFS(\"A\")\n",
    "print(dfs_output)\n"
   ]
  }
 ],
 "metadata": {
  "kernelspec": {
   "display_name": "Python 3",
   "language": "python",
   "name": "python3"
  },
  "language_info": {
   "codemirror_mode": {
    "name": "ipython",
    "version": 3
   },
   "file_extension": ".py",
   "mimetype": "text/x-python",
   "name": "python",
   "nbconvert_exporter": "python",
   "pygments_lexer": "ipython3",
   "version": "3.10.6"
  },
  "orig_nbformat": 4,
  "vscode": {
   "interpreter": {
    "hash": "916dbcbb3f70747c44a77c7bcd40155683ae19c65e1c03b4aa3499c5328201f1"
   }
  }
 },
 "nbformat": 4,
 "nbformat_minor": 2
}
